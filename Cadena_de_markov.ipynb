{
  "nbformat": 4,
  "nbformat_minor": 0,
  "metadata": {
    "colab": {
      "provenance": [],
      "include_colab_link": true
    },
    "kernelspec": {
      "name": "python3",
      "display_name": "Python 3"
    },
    "language_info": {
      "name": "python"
    }
  },
  "cells": [
    {
      "cell_type": "markdown",
      "metadata": {
        "id": "view-in-github",
        "colab_type": "text"
      },
      "source": [
        "<a href=\"https://colab.research.google.com/github/carademelon/segundo_repositorio/blob/main/Cadena_de_markov.ipynb\" target=\"_parent\"><img src=\"https://colab.research.google.com/assets/colab-badge.svg\" alt=\"Open In Colab\"/></a>"
      ]
    },
    {
      "cell_type": "code",
      "execution_count": null,
      "metadata": {
        "colab": {
          "base_uri": "https://localhost:8080/"
        },
        "id": "8CP8YuArI7y0",
        "outputId": "e9471e98-eb7e-49d0-c98f-6d87d8692244"
      },
      "outputs": [
        {
          "output_type": "stream",
          "name": "stdout",
          "text": [
            "1.0\n",
            "Matriz P:\n",
            "[[0.33333333 0.33333333 0.         0.         0.         0.33333333]\n",
            " [0.25       0.25       0.25       0.25       0.         0.        ]\n",
            " [0.         0.33333333 0.33333333 0.33333333 0.         0.        ]\n",
            " [0.         0.         0.33333333 0.33333333 0.33333333 0.        ]\n",
            " [0.         0.25       0.         0.25       0.25       0.25      ]\n",
            " [0.33333333 0.         0.         0.         0.33333333 0.33333333]]\n",
            "\n",
            "Multiplicación de v y P: En un tiempo 1... :\n",
            "[0.16666667 0.23148148 0.16666667 0.19444444 0.10185185 0.13888889]\n",
            "\n",
            "Matriz P^2:\n",
            "[[0.30555556 0.19444444 0.08333333 0.08333333 0.11111111 0.22222222]\n",
            " [0.14583333 0.22916667 0.22916667 0.22916667 0.08333333 0.08333333]\n",
            " [0.08333333 0.19444444 0.30555556 0.30555556 0.11111111 0.        ]\n",
            " [0.         0.19444444 0.22222222 0.30555556 0.19444444 0.08333333]\n",
            " [0.14583333 0.125      0.14583333 0.20833333 0.22916667 0.14583333]\n",
            " [0.22222222 0.19444444 0.         0.08333333 0.19444444 0.30555556]]\n",
            "\n",
            "Multiplicación de v y P^2: En un tiempo 2... \n",
            "[0.15972222 0.19444444 0.17824074 0.2037037  0.13657407 0.12731481]\n",
            "\n",
            "Matriz P^3:\n",
            "[[0.22453704 0.20601852 0.10416667 0.13194444 0.12962963 0.2037037 ]\n",
            " [0.13368056 0.203125   0.21006944 0.23090278 0.125      0.09722222]\n",
            " [0.07638889 0.20601852 0.25231481 0.28009259 0.12962963 0.05555556]\n",
            " [0.07638889 0.1712963  0.22453704 0.27314815 0.17824074 0.07638889]\n",
            " [0.12847222 0.18576389 0.14930556 0.20659722 0.17534722 0.15451389]\n",
            " [0.22453704 0.1712963  0.07638889 0.125      0.17824074 0.22453704]]\n",
            "\n",
            "Multiplicación de v y P^3: En un tiempo 3... \n",
            "[0.14429012 0.19540895 0.17592593 0.21006944 0.14448302 0.12982253]\n"
          ]
        }
      ],
      "source": [
        "import numpy as np\n",
        "#1. Datos del problema:\n",
        "#Consideramos un laberinto de 6 casillas enumeradas donde la probabilidad de introducir al ratón\n",
        "#en las casillas 1, 2 y 3 es el doble que en las casillas 4, 5 y 6. Una vez dentro del laberinto,\n",
        "#el ratón se mueve a cualquier casilla contigua o se queda en la casilla en la que está con la misma probabilidad.\n",
        "\n",
        "#Abstracción a una cadena de Markov:\n",
        "#El laberinto puede ser modelado como una cadena de Markov, donde las casillas del laberinto representan los estados\n",
        "#y la probabilidad de moverse de un estado a otro está dada por una matriz de transición.\n",
        "\n",
        "# Vector de probabildades iniciales cumpliendo la condicional que:\n",
        "#En las casillas 1,2,3 hay el doble de probabilidad a comparacion de las casillas 4,5,6\n",
        "# En este caso hay un margen de error de .28 ....\n",
        "v = np.array([2/9, 2/9, 2/9, 1/9, 1/9, 1/9])\n",
        "print(np.sum(v))\n",
        "\n",
        "#Matriz de transicion.\n",
        "P = np.array([[1/3, 1/3, 0, 0, 0, 1/3],\n",
        "              [1/4, 1/4, 1/4, 1/4, 0, 0],\n",
        "              [0, 1/3, 1/3, 1/3, 0, 0],\n",
        "              [0, 0, 1/3, 1/3, 1/3, 0],\n",
        "              [0, 1/4, 0, 1/4, 1/4, 1/4],\n",
        "              [1/3, 0, 0, 0, 1/3, 1/3]])\n",
        "\n",
        "# Multiplicar v por P, P^2 y P^3\n",
        "vxP = np.dot(v, P)#probabilidad de estar en cierta casilla en 1 paso\n",
        "vxP2 = np.dot(v, np.linalg.matrix_power(P, 2))#Eleva la matriz a la 2 para saber la prob. de estar en cierta casiila en 2 pasos\n",
        "vxP3 = np.dot(v, np.linalg.matrix_power(P, 3)) #Eleva la matriz a la 3 para saber la prob. de estar en cierta casilla en 3 pasos\n",
        "\n",
        "# Imprimir los resultados\n",
        "print(\"Matriz P:\")\n",
        "print(P)\n",
        "print(\"\\nMultiplicación de v y P: En un tiempo 1... :\")\n",
        "print(vxP)\n",
        "\n",
        "print(\"\\nMatriz P^2:\")\n",
        "print(np.linalg.matrix_power(P, 2))\n",
        "print(\"\\nMultiplicación de v y P^2: En un tiempo 2... \")\n",
        "print(vxP2)\n",
        "\n",
        "print(\"\\nMatriz P^3:\")\n",
        "print(np.linalg.matrix_power(P, 3))\n",
        "print(\"\\nMultiplicación de v y P^3: En un tiempo 3... \")\n",
        "print(vxP3)"
      ]
    },
    {
      "cell_type": "code",
      "source": [
        "np.sum(v)\n"
      ],
      "metadata": {
        "colab": {
          "base_uri": "https://localhost:8080/"
        },
        "id": "IjWJ6HyD2UXf",
        "outputId": "33b14017-6ee9-4109-81fa-ded81b90cd25"
      },
      "execution_count": null,
      "outputs": [
        {
          "output_type": "execute_result",
          "data": {
            "text/plain": [
              "1.2857142857142856"
            ]
          },
          "metadata": {},
          "execution_count": 6
        }
      ]
    }
  ]
}